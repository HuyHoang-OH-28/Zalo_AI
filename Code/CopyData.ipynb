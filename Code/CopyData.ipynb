{
 "cells": [
  {
   "cell_type": "code",
   "execution_count": 4,
   "id": "59aa9834",
   "metadata": {},
   "outputs": [],
   "source": [
    "from tqdm import tqdm\n",
    "import cv2\n",
    "import numpy as np\n",
    "import os\n",
    "import shutil\n",
    "import pandas as pd\n",
    "import csv"
   ]
  },
  {
   "cell_type": "code",
   "execution_count": 120,
   "id": "4b2ef4c5",
   "metadata": {},
   "outputs": [],
   "source": [
    "# Get data fro, label.csv\n",
    "csv_rows = []\n",
    "with open(\"../label.csv\", 'r') as file:\n",
    "    csvreader = csv.reader(file)\n",
    "    for row in csvreader:\n",
    "        csv_rows.append(row)"
   ]
  },
  {
   "cell_type": "code",
   "execution_count": 155,
   "id": "9dda533f",
   "metadata": {},
   "outputs": [],
   "source": [
    "# Data/\n",
    "    #train/\n",
    "        #Fake/\n",
    "            #imgs/\n",
    "            #videos/\n",
    "        #Real/\n",
    "            #imgs/\n",
    "            #videos/\n",
    "    #val\n",
    "        #Fake/\n",
    "            #imgs/\n",
    "            #videos/\n",
    "        #Real/\n",
    "            #imgs/\n",
    "            #videos/\n",
    "# vides/\n",
    "\n",
    "# Code\n",
    "    "
   ]
  },
  {
   "cell_type": "code",
   "execution_count": 122,
   "id": "11fbf5b2",
   "metadata": {},
   "outputs": [
    {
     "name": "stdout",
     "output_type": "stream",
     "text": [
      "Removing file in ../Data/train/Fake/videos/: 0\n",
      "Removing file in ../Data/train/Fake/imgs/: 0\n",
      "Removing file in ../Data/train/Real/videos/: 0\n",
      "Removing file in ../Data/train/Real/imgs/: 0\n",
      "Removing file in ../Data/val/Fake/videos/: 0\n",
      "Removing file in ../Data/val/Fake/imgs/: 0\n",
      "Removing file in ../Data/val/Real/videos/: 0\n",
      "Removing file in ../Data/val/Real/imgs/: 0\n",
      "Removed all file in Data\n"
     ]
    }
   ],
   "source": [
    "# Folder Struture\n",
    "\n",
    "ORIGINAL_VIDEOS = \"../videos/\"\n",
    "TRAIN_FOLDER = \"../Data/train/\"\n",
    "VAL_FOLDER = \"../Data/val/\"\n",
    "N_VAL_FILES = 200\n",
    "\n",
    "# Remove all file in data folder\n",
    "def remove_all_files_in_a_folder(folder_path):\n",
    "    print(f\"Removing file in {folder_path}: {len(os.listdir(folder_path))}\")\n",
    "    for file in os.listdir(folder_path):\n",
    "        os.remove(folder_path+ file)\n",
    "\n",
    "remove_all_files_in_a_folder(TRAIN_FOLDER + \"Fake/videos/\")\n",
    "remove_all_files_in_a_folder(TRAIN_FOLDER + \"Fake/imgs/\")\n",
    "remove_all_files_in_a_folder(TRAIN_FOLDER + \"Real/videos/\")\n",
    "remove_all_files_in_a_folder(TRAIN_FOLDER + \"Real/imgs/\")\n",
    "\n",
    "\n",
    "remove_all_files_in_a_folder(VAL_FOLDER + \"Fake/videos/\")\n",
    "remove_all_files_in_a_folder(VAL_FOLDER + \"Fake/imgs/\")\n",
    "remove_all_files_in_a_folder(VAL_FOLDER + \"Real/videos/\")\n",
    "remove_all_files_in_a_folder(VAL_FOLDER + \"Real/imgs/\")\n",
    "\n",
    "print(f\"Removed all file in Data\")\n"
   ]
  },
  {
   "cell_type": "code",
   "execution_count": 123,
   "id": "d5b51b61",
   "metadata": {},
   "outputs": [
    {
     "name": "stderr",
     "output_type": "stream",
     "text": [
      "Moving files: 100%|████████████████████████████████████████████████████████████████████████        [ time left: 00:00 ]"
     ]
    },
    {
     "name": "stdout",
     "output_type": "stream",
     "text": [
      "Total file moved: 968\n",
      "Total file in Fake: 477\n",
      "Total file in Real: 491\n"
     ]
    },
    {
     "name": "stderr",
     "output_type": "stream",
     "text": [
      "\n"
     ]
    }
   ],
   "source": [
    "# train videos data\n",
    "process_rows = csv_rows[1: -N_VAL_FILES]\n",
    "with tqdm(total=len(process_rows), desc=\"Moving files: \", bar_format=\"{l_bar}{bar}        [ time left: {remaining} ]\") as pbar:\n",
    "    for row in process_rows:\n",
    "        filename = row[0]\n",
    "        label = row[1]\n",
    "        if label == \"0\":\n",
    "            # move to Fake folder\n",
    "            src = ORIGINAL_VIDEOS + filename\n",
    "            dst = TRAIN_FOLDER + \"Fake/videos/\" + filename\n",
    "            shutil.copyfile(src, dst)\n",
    "        else:\n",
    "            # move to Real folder\n",
    "            src = ORIGINAL_VIDEOS + filename\n",
    "            dst = TRAIN_FOLDER + \"Real/videos/\" + filename\n",
    "            shutil.copyfile(src, dst)\n",
    "        pbar.update(1)\n",
    "print(f\"Total file moved: {len(process_rows)}\")\n",
    "print(f\"Total file in Fake: {len(os.listdir(TRAIN_FOLDER + 'Fake/videos/'))}\")\n",
    "print(f\"Total file in Real: {len(os.listdir(TRAIN_FOLDER + 'Real/videos/'))}\")"
   ]
  },
  {
   "cell_type": "code",
   "execution_count": 124,
   "id": "a6026dd6",
   "metadata": {},
   "outputs": [
    {
     "name": "stderr",
     "output_type": "stream",
     "text": [
      "Moving files: 100%|████████████████████████████████████████████████████████████████████████        [ time left: 00:00 ]"
     ]
    },
    {
     "name": "stdout",
     "output_type": "stream",
     "text": [
      "Total file moved: 200\n",
      "Total file in Fake: 93\n",
      "Total file in Real: 107\n"
     ]
    },
    {
     "name": "stderr",
     "output_type": "stream",
     "text": [
      "\n"
     ]
    }
   ],
   "source": [
    "# val videos data \n",
    "process_rows = csv_rows[-N_VAL_FILES:]\n",
    "with tqdm(total=len(process_rows), desc=\"Moving files: \", bar_format=\"{l_bar}{bar}        [ time left: {remaining} ]\") as pbar:\n",
    "    for row in csv_rows[-200:]:\n",
    "        filename = row[0]\n",
    "        label = row[1]\n",
    "        if label == \"0\":\n",
    "            # move to Fake folder\n",
    "            src = ORIGINAL_VIDEOS + filename\n",
    "            dst = VAL_FOLDER + \"Fake/videos/\" + filename\n",
    "            shutil.copyfile(src, dst)\n",
    "        else:\n",
    "            # move to Real folder\n",
    "            src = ORIGINAL_VIDEOS + filename\n",
    "            dst = VAL_FOLDER + \"Real/videos/\" + filename\n",
    "            shutil.copyfile(src, dst)\n",
    "        pbar.update(1)\n",
    "        \n",
    "print(f\"Total file moved: {len(process_rows)}\")\n",
    "print(f\"Total file in Fake: {len(os.listdir(VAL_FOLDER + 'Fake/videos/'))}\")\n",
    "print(f\"Total file in Real: {len(os.listdir(VAL_FOLDER + 'Real/videos/'))}\")"
   ]
  },
  {
   "cell_type": "markdown",
   "id": "4e7b227c",
   "metadata": {},
   "source": [
    "# Convert Videos to imgs"
   ]
  },
  {
   "cell_type": "code",
   "execution_count": 125,
   "id": "37f02194",
   "metadata": {},
   "outputs": [],
   "source": [
    "def split_imgs_from_videos(video_path, imgs_path, filename, rate = 1):\n",
    "    video = cv2.VideoCapture(video_path)\n",
    "    # frame\n",
    "    currentframe = 0\n",
    "    while True:\n",
    "        ret,frame = video.read()\n",
    "        if ret: # if video is still left continue creating images\n",
    "            if currentframe % rate == 0:\n",
    "                name = imgs_path + filename +\"_\"+ str(currentframe) + '.png'\n",
    "                cv2.imwrite(name, frame)\n",
    "            currentframe += 1\n",
    "        else:\n",
    "            break"
   ]
  },
  {
   "cell_type": "code",
   "execution_count": 126,
   "id": "45dc184f",
   "metadata": {},
   "outputs": [],
   "source": [
    "def  split_imgs(folder_path, rate):\n",
    "    videos = os.listdir(folder_path+\"videos/\")\n",
    "    print(f\"Total video in folder {folder_path} : {len(videos)}\")\n",
    "    with tqdm(total=len(videos), desc=\"Spliting imgs: \", bar_format=\"{l_bar}{bar}        [ time left: {remaining} ]\") as pbar:\n",
    "        for video in videos:\n",
    "            filename = video[:-4]\n",
    "            video_path = folder_path + \"videos/\" + video\n",
    "            imgs_path = folder_path + \"imgs/\"\n",
    "            split_imgs_from_videos(video_path, imgs_path, filename, rate)\n",
    "            pbar.update(1)\n",
    "    print(f\"Total new imgs splited: {len(os.listdir(folder_path+'imgs/'))}\")\n",
    "       \n",
    "        \n",
    "            "
   ]
  },
  {
   "cell_type": "code",
   "execution_count": 127,
   "id": "3f8bb8ab",
   "metadata": {},
   "outputs": [
    {
     "name": "stdout",
     "output_type": "stream",
     "text": [
      "Total video in folder ../Data/train/Fake/ : 477\n"
     ]
    },
    {
     "name": "stderr",
     "output_type": "stream",
     "text": [
      "Spliting imgs: 100%|███████████████████████████████████████████████████████████████████████        [ time left: 00:00 ]"
     ]
    },
    {
     "name": "stdout",
     "output_type": "stream",
     "text": [
      "Total new imgs splited: 954\n"
     ]
    },
    {
     "name": "stderr",
     "output_type": "stream",
     "text": [
      "\n"
     ]
    }
   ],
   "source": [
    "split_imgs(TRAIN_FOLDER + \"Fake/\", 100)"
   ]
  },
  {
   "cell_type": "code",
   "execution_count": 128,
   "id": "012a494d",
   "metadata": {},
   "outputs": [
    {
     "name": "stdout",
     "output_type": "stream",
     "text": [
      "Total video in folder ../Data/train/Real/ : 491\n"
     ]
    },
    {
     "name": "stderr",
     "output_type": "stream",
     "text": [
      "Spliting imgs: 100%|███████████████████████████████████████████████████████████████████████        [ time left: 00:00 ]"
     ]
    },
    {
     "name": "stdout",
     "output_type": "stream",
     "text": [
      "Total new imgs splited: 972\n"
     ]
    },
    {
     "name": "stderr",
     "output_type": "stream",
     "text": [
      "\n"
     ]
    }
   ],
   "source": [
    "split_imgs(TRAIN_FOLDER + \"Real/\", 100)"
   ]
  },
  {
   "cell_type": "code",
   "execution_count": 129,
   "id": "15f195f4",
   "metadata": {},
   "outputs": [
    {
     "name": "stdout",
     "output_type": "stream",
     "text": [
      "Total video in folder ../Data/val/Real/ : 107\n"
     ]
    },
    {
     "name": "stderr",
     "output_type": "stream",
     "text": [
      "Spliting imgs: 100%|███████████████████████████████████████████████████████████████████████        [ time left: 00:00 ]"
     ]
    },
    {
     "name": "stdout",
     "output_type": "stream",
     "text": [
      "Total new imgs splited: 212\n"
     ]
    },
    {
     "name": "stderr",
     "output_type": "stream",
     "text": [
      "\n"
     ]
    }
   ],
   "source": [
    "split_imgs(VAL_FOLDER + \"Real/\", 100)"
   ]
  },
  {
   "cell_type": "code",
   "execution_count": 130,
   "id": "08eb04bd",
   "metadata": {},
   "outputs": [
    {
     "name": "stdout",
     "output_type": "stream",
     "text": [
      "Total video in folder ../Data/val/Fake/ : 93\n"
     ]
    },
    {
     "name": "stderr",
     "output_type": "stream",
     "text": [
      "Spliting imgs: 100%|███████████████████████████████████████████████████████████████████████        [ time left: 00:00 ]"
     ]
    },
    {
     "name": "stdout",
     "output_type": "stream",
     "text": [
      "Total new imgs splited: 186\n"
     ]
    },
    {
     "name": "stderr",
     "output_type": "stream",
     "text": [
      "\n"
     ]
    }
   ],
   "source": [
    "split_imgs(VAL_FOLDER + \"Fake/\", 100)"
   ]
  },
  {
   "cell_type": "markdown",
   "id": "af0d8a95",
   "metadata": {},
   "source": [
    "# Imgs processing"
   ]
  },
  {
   "cell_type": "code",
   "execution_count": 151,
   "id": "bc5d7968",
   "metadata": {},
   "outputs": [],
   "source": [
    "def sharpening(img_path, filename):\n",
    "    img = cv2.imread(img_path)\n",
    "    img_gray = cv2.cvtColor(img, cv2.COLOR_BGR2GRAY)\n",
    "    #cv2.imwrite(\"../Data/tmp/\"+filename, img_gray)\n",
    "    kernel = np.array([[0, -1, 0],\n",
    "                   [-1, 5,-1],\n",
    "                   [0, -1, 0]])\n",
    "    image_sharp = cv2.filter2D(src=img_gray, ddepth=-1, kernel=kernel)\n",
    "    cv2.imwrite(\"../Data/train/Fake/img_processed/\"+filename, image_sharp)"
   ]
  },
  {
   "cell_type": "code",
   "execution_count": 152,
   "id": "a34e8d3f",
   "metadata": {},
   "outputs": [],
   "source": [
    "files = os.listdir(\"../Data/train/Fake/imgs\")"
   ]
  },
  {
   "cell_type": "code",
   "execution_count": 154,
   "id": "fa349e70",
   "metadata": {},
   "outputs": [],
   "source": [
    "for file in files: \n",
    "    sharpening(\"../Data/train/Fake/imgs/\"+ file, file)"
   ]
  },
  {
   "cell_type": "code",
   "execution_count": null,
   "id": "dd9706e1",
   "metadata": {},
   "outputs": [],
   "source": []
  }
 ],
 "metadata": {
  "kernelspec": {
   "display_name": "Python 3 (ipykernel)",
   "language": "python",
   "name": "python3"
  },
  "language_info": {
   "codemirror_mode": {
    "name": "ipython",
    "version": 3
   },
   "file_extension": ".py",
   "mimetype": "text/x-python",
   "name": "python",
   "nbconvert_exporter": "python",
   "pygments_lexer": "ipython3",
   "version": "3.9.13"
  }
 },
 "nbformat": 4,
 "nbformat_minor": 5
}
